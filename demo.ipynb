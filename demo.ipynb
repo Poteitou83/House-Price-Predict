{
 "cells": [
  {
   "cell_type": "code",
   "execution_count": 1,
   "metadata": {},
   "outputs": [],
   "source": [
    "import joblib\n",
    "import numpy as np"
   ]
  },
  {
   "cell_type": "code",
   "execution_count": 2,
   "metadata": {},
   "outputs": [],
   "source": [
    "rgr = joblib.load(f'trained_models/MLPRegressor.joblib')\n"
   ]
  },
  {
   "cell_type": "code",
   "execution_count": 3,
   "metadata": {},
   "outputs": [
    {
     "name": "stdin",
     "output_type": "stream",
     "text": [
      "Enter the area of the property:  10\n",
      "Enter the type of the property:  Nhà mặt phố\n",
      "Enter the district of the property:  Quận Tây Hồ\n",
      "Enter the road width of the property:  Đường vào: Rộng 7m\n"
     ]
    },
    {
     "ename": "ValueError",
     "evalue": "could not convert string to float: 'Đường vào: Rộng 7m'",
     "output_type": "error",
     "traceback": [
      "\u001b[1;31m---------------------------------------------------------------------------\u001b[0m",
      "\u001b[1;31mValueError\u001b[0m                                Traceback (most recent call last)",
      "Cell \u001b[1;32mIn[3], line 4\u001b[0m\n\u001b[0;32m      2\u001b[0m property_type \u001b[38;5;241m=\u001b[39m \u001b[38;5;28minput\u001b[39m(\u001b[38;5;124m\"\u001b[39m\u001b[38;5;124mEnter the type of the property: \u001b[39m\u001b[38;5;124m\"\u001b[39m)\n\u001b[0;32m      3\u001b[0m district \u001b[38;5;241m=\u001b[39m \u001b[38;5;28minput\u001b[39m(\u001b[38;5;124m\"\u001b[39m\u001b[38;5;124mEnter the district of the property: \u001b[39m\u001b[38;5;124m\"\u001b[39m)\n\u001b[1;32m----> 4\u001b[0m road_width \u001b[38;5;241m=\u001b[39m \u001b[38;5;28mfloat\u001b[39m(\u001b[38;5;28minput\u001b[39m(\u001b[38;5;124m\"\u001b[39m\u001b[38;5;124mEnter the road width of the property: \u001b[39m\u001b[38;5;124m\"\u001b[39m))\n\u001b[0;32m      5\u001b[0m width \u001b[38;5;241m=\u001b[39m \u001b[38;5;28mfloat\u001b[39m(\u001b[38;5;28minput\u001b[39m(\u001b[38;5;124m\"\u001b[39m\u001b[38;5;124mEnter the width of the property: \u001b[39m\u001b[38;5;124m\"\u001b[39m))\n\u001b[0;32m      6\u001b[0m floors \u001b[38;5;241m=\u001b[39m \u001b[38;5;28mint\u001b[39m(\u001b[38;5;28minput\u001b[39m(\u001b[38;5;124m\"\u001b[39m\u001b[38;5;124mEnter the number of floors in the property: \u001b[39m\u001b[38;5;124m\"\u001b[39m))\n",
      "\u001b[1;31mValueError\u001b[0m: could not convert string to float: 'Đường vào: Rộng 7m'"
     ]
    }
   ],
   "source": [
    "area = float(input(\"Enter the area of the property: \"))\n",
    "property_type = input(\"Enter the type of the property: \")\n",
    "district = input(\"Enter the district of the property: \")\n",
    "road_width = float(input(\"Enter the road width of the property: \"))\n",
    "width = float(input(\"Enter the width of the property: \"))\n",
    "floors = int(input(\"Enter the number of floors in the property: \"))\n",
    "parking_slots = int(input(\"Enter the number of parking slots: \"))\n",
    "bedrooms = int(input(\"Enter the number of bedrooms: \"))\n",
    "\n",
    "data = [area, (1 if property_type=='Nhà mặt phố' else 0), road_width, width, floors, parking_slots, bedrooms]\n",
    "\n",
    "\n",
    "district_encoded = [0 for i in range(11)]\n",
    "district_values_set = ['Quận Cầu Giấy', \n",
    "                       'Quận Tây Hồ', \n",
    "                       'Quận Đống Đa', \n",
    "                       'Quận Ba Đình', \n",
    "                       'Quận Hai Bà Trưng', \n",
    "                       'Quận Thanh Xuân', \n",
    "                       'Quận Nam Từ Liêm', \n",
    "                       'Quận Hà Đông', \n",
    "                       'Quận Long Biên', \n",
    "                       'Quận Bắc Từ Liêm', \n",
    "                       'Quận Hoàng Mai']\n",
    "for i in range(11):\n",
    "    if district == district_values_set[i]:\n",
    "        district_encoded[i] = 1\n",
    "\n",
    "data += district_encoded"
   ]
  },
  {
   "cell_type": "code",
   "execution_count": 12,
   "metadata": {},
   "outputs": [
    {
     "name": "stdout",
     "output_type": "stream",
     "text": [
      "The predicted price of the property is VND 15.39 billions\n"
     ]
    },
    {
     "name": "stderr",
     "output_type": "stream",
     "text": [
      "c:\\Users\\longn\\AppData\\Local\\Programs\\Python\\Python311\\Lib\\site-packages\\sklearn\\base.py:439: UserWarning: X does not have valid feature names, but MLPRegressor was fitted with feature names\n",
      "  warnings.warn(\n"
     ]
    }
   ],
   "source": [
    "prediction = np.round(rgr.predict([data])[0], 2)\n",
    "print(f'The predicted price of the property is VND {prediction} billions')"
   ]
  }
 ],
 "metadata": {
  "kernelspec": {
   "display_name": "Python 3 (ipykernel)",
   "language": "python",
   "name": "python3"
  },
  "language_info": {
   "codemirror_mode": {
    "name": "ipython",
    "version": 3
   },
   "file_extension": ".py",
   "mimetype": "text/x-python",
   "name": "python",
   "nbconvert_exporter": "python",
   "pygments_lexer": "ipython3",
   "version": "3.11.7"
  }
 },
 "nbformat": 4,
 "nbformat_minor": 4
}
